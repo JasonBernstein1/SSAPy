{
 "cells": [
  {
   "cell_type": "markdown",
   "metadata": {},
   "source": [
    "# Angles to Orbits\n",
    "\n",
    "Explore the computations to convert angles-only measurements to orbit determinations as used in Stooker."
   ]
  },
  {
   "cell_type": "code",
   "execution_count": 13,
   "metadata": {},
   "outputs": [],
   "source": [
    "import numpy as np\n",
    "import matplotlib.pyplot as plt\n",
    "import astropy.units as u\n",
    "\n",
    "import ssa.planter.planter\n",
    "import ssa.planter.streaksim as streaksim"
   ]
  },
  {
   "cell_type": "code",
   "execution_count": 4,
   "metadata": {},
   "outputs": [
    {
     "name": "stdout",
     "output_type": "stream",
     "text": [
      "start time (sec):  212129064000.0 s\n",
      "exposure time (sec):  10.0 s\n",
      "RA (deg.):  0.0 deg\n",
      "DEC (deg.): 0.0 deg\n",
      "RA (deg.):  0.0426272094227916 deg\n",
      "DEC (deg.): 0.0 deg\n",
      "x0: 76.729, y0: 0.000, L:  153 (arcsec), phi0: 0.000 (deg.)\n",
      "x0:  0.021313604711395796 deg , y0:  0.0 deg\n"
     ]
    }
   ],
   "source": [
    "gsm = ssa.planter.planter.simulate_streak_from_orbit()"
   ]
  },
  {
   "cell_type": "code",
   "execution_count": 5,
   "metadata": {},
   "outputs": [
    {
     "data": {
      "text/plain": [
       "<GaussianStreakModel> 76.72897696102487 pix 0.0 pix 0.0 rad 100.0 adu / pix2 153.45795392204974 pix 2.52 pix"
      ]
     },
     "execution_count": 5,
     "metadata": {},
     "output_type": "execute_result"
    }
   ],
   "source": [
    "gsm"
   ]
  },
  {
   "cell_type": "code",
   "execution_count": 16,
   "metadata": {},
   "outputs": [
    {
     "name": "stdout",
     "output_type": "stream",
     "text": [
      "76.72897696102487 pix 0.0 pix\n",
      "76.72897696102487 pix\n",
      "153.45795392204974 pix 0.0 pix\n"
     ]
    }
   ],
   "source": [
    "dra = (gsm.L * np.cos(gsm.phi0) / 2.).to(u.pix)\n",
    "ddec = (gsm.L * np.sin(gsm.phi0) / 2.).to(u.pix)\n",
    "print(dra, ddec)\n",
    "print(gsm.x0)\n",
    "print(gsm.x0+dra, gsm.x0-dra)"
   ]
  },
  {
   "cell_type": "code",
   "execution_count": 18,
   "metadata": {},
   "outputs": [
    {
     "name": "stdout",
     "output_type": "stream",
     "text": [
      "[[153.45795392   0.        ]\n",
      " [  0.           0.        ]] pix\n",
      "[[76.72897696  0.        ]\n",
      " [ 0.          0.        ]] arcsec\n"
     ]
    }
   ],
   "source": [
    "endpoints = gsm.endpoints_ang_pos()\n",
    "print(endpoints)\n",
    "\n",
    "pixel_scale = 0.5 * u.arcsec / u.pix\n",
    "endpoints *= pixel_scale\n",
    "print(endpoints)"
   ]
  },
  {
   "cell_type": "code",
   "execution_count": 21,
   "metadata": {},
   "outputs": [],
   "source": [
    "x0_arcsec, y0_arcsec, L_arcsec, phi0 = streaksim.gaussian_streak_params_from_endpoints(\n",
    "    endpoints[0,0], endpoints[0,1],\n",
    "    endpoints[1,0], endpoints[1,1])\n",
    "phi0 = (phi0.value % np.pi) * u.rad"
   ]
  },
  {
   "cell_type": "code",
   "execution_count": 22,
   "metadata": {},
   "outputs": [
    {
     "name": "stdout",
     "output_type": "stream",
     "text": [
      "38.364488480512435 arcsec 0.0 arcsec 76.72897696102487 arcsec 0.0 rad\n"
     ]
    }
   ],
   "source": [
    "print(x0_arcsec, y0_arcsec, L_arcsec, phi0)"
   ]
  },
  {
   "cell_type": "code",
   "execution_count": null,
   "metadata": {},
   "outputs": [],
   "source": []
  }
 ],
 "metadata": {
  "kernelspec": {
   "display_name": "Python 3",
   "language": "python",
   "name": "python3"
  },
  "language_info": {
   "codemirror_mode": {
    "name": "ipython",
    "version": 3
   },
   "file_extension": ".py",
   "mimetype": "text/x-python",
   "name": "python",
   "nbconvert_exporter": "python",
   "pygments_lexer": "ipython3",
   "version": "3.7.0"
  }
 },
 "nbformat": 4,
 "nbformat_minor": 2
}
